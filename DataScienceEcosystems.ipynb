{
 "cells": [
  {
   "cell_type": "markdown",
   "id": "c87dc735-80b1-47a9-ad25-4a3d91da6851",
   "metadata": {},
   "source": [
    "# Data Science Tools and Ecosystems\n"
   ]
  },
  {
   "cell_type": "markdown",
   "id": "18830010-de84-4aca-8e7f-811f824d3a5a",
   "metadata": {},
   "source": [
    "In this notebook, Data Science Tools and Ecosystem are summarized"
   ]
  },
  {
   "cell_type": "markdown",
   "id": "f0ebd26c-803f-4464-8611-a13d12fce344",
   "metadata": {},
   "source": [
    "**Objectives**\n",
    "* Some popular languages that data scientists use\n",
    "* Some commonly used libraries used by Data Scientists\n",
    "* Arithmetical expression evaluation\n",
    "* Time conversion from hours to minutes"
   ]
  },
  {
   "cell_type": "markdown",
   "id": "2e4207bb-0357-46b4-9f3b-6ab72b0c5cc0",
   "metadata": {},
   "source": [
    "##### Some popular languages that Data Scientists use are:\n",
    "\n",
    "1. Python\n",
    "2. R Language\n",
    "3. Structured Query Language (SQL)\n",
    "   "
   ]
  },
  {
   "cell_type": "markdown",
   "id": "d9fe7933-d798-4ef0-afec-cf9c785154d4",
   "metadata": {},
   "source": [
    "##### Some of the commonly used libraries used by Data Scientists include:\n",
    "\n",
    "1. Numpy\n",
    "2. Pandas\n",
    "3. Matplotlib\n",
    "4. TensorFlow\n",
    "5. Pytorch"
   ]
  },
  {
   "cell_type": "markdown",
   "id": "92ecbe81-6546-4bc3-a8a6-e74d704e5a34",
   "metadata": {},
   "source": [
    "Data Science Tools|\n",
    "------------------|\n",
    "Apache Spark|\n",
    "Scikit-Learn|\n",
    "RStudio|"
   ]
  },
  {
   "cell_type": "markdown",
   "id": "be740cbd-d9c4-4e63-95ab-b48b9c6558b6",
   "metadata": {},
   "source": [
    "# Below are a few examples of evaluating arithmetic expressions in Python."
   ]
  },
  {
   "cell_type": "code",
   "execution_count": 2,
   "id": "854e6bce-e521-476f-a69d-7a85e5dcded2",
   "metadata": {},
   "outputs": [
    {
     "data": {
      "text/plain": [
       "17"
      ]
     },
     "execution_count": 2,
     "metadata": {},
     "output_type": "execute_result"
    }
   ],
   "source": [
    "# This a simple arithmetic expression to mutiply then add integers\n",
    "(3*4)+5"
   ]
  },
  {
   "cell_type": "code",
   "execution_count": 4,
   "id": "f7ea3714-913d-4814-81a7-6f7cde394dda",
   "metadata": {},
   "outputs": [
    {
     "data": {
      "text/plain": [
       "3.3333333333333335"
      ]
     },
     "execution_count": 4,
     "metadata": {},
     "output_type": "execute_result"
    }
   ],
   "source": [
    "# This will convert 200 minutes to hours by diving by 60\n",
    "200/60"
   ]
  },
  {
   "cell_type": "markdown",
   "id": "b8fcb3da-cd81-48d4-8660-77bbaf34bc92",
   "metadata": {},
   "source": [
    "## Author\n",
    "Shivam Kumar Jaiswal"
   ]
  }
 ],
 "metadata": {
  "kernelspec": {
   "display_name": "Python 3 (ipykernel)",
   "language": "python",
   "name": "python3"
  },
  "language_info": {
   "codemirror_mode": {
    "name": "ipython",
    "version": 3
   },
   "file_extension": ".py",
   "mimetype": "text/x-python",
   "name": "python",
   "nbconvert_exporter": "python",
   "pygments_lexer": "ipython3",
   "version": "3.11.5"
  }
 },
 "nbformat": 4,
 "nbformat_minor": 5
}
